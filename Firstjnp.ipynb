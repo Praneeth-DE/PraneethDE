{
 "cells": [
  {
   "cell_type": "code",
   "execution_count": 1,
   "id": "eddefe68",
   "metadata": {},
   "outputs": [
    {
     "name": "stdout",
     "output_type": "stream",
     "text": [
      "I am printing1\n",
      "I am printing2\n",
      "I am printing3\n",
      "I am printing4\n",
      "I am printing5\n",
      "I am printing6\n",
      "I am printing7\n",
      "I am printing8\n",
      "I am printing9\n"
     ]
    }
   ],
   "source": [
    "for i in range(1,10):\n",
    "    print(\"I am printing\"+str(i))"
   ]
  },
  {
   "cell_type": "code",
   "execution_count": null,
   "id": "9251894d",
   "metadata": {},
   "outputs": [],
   "source": []
  }
 ],
 "metadata": {
  "kernelspec": {
   "display_name": "Python 3 (ipykernel)",
   "language": "python",
   "name": "python3"
  },
  "language_info": {
   "codemirror_mode": {
    "name": "ipython",
    "version": 3
   },
   "file_extension": ".py",
   "mimetype": "text/x-python",
   "name": "python",
   "nbconvert_exporter": "python",
   "pygments_lexer": "ipython3",
   "version": "3.9.7"
  }
 },
 "nbformat": 4,
 "nbformat_minor": 5
}
